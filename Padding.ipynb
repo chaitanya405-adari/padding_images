{
 "cells": [
  {
   "cell_type": "code",
   "execution_count": 9,
   "metadata": {},
   "outputs": [],
   "source": [
    "import cv2\n",
    "import numpy as np\n",
    "import pandas as pd\n",
    "import matplotlib.pyplot as plt\n",
    "import os"
   ]
  },
  {
   "cell_type": "code",
   "execution_count": 24,
   "metadata": {},
   "outputs": [],
   "source": [
    "path=r'F:\\Monolith.Ai\\Images'\n",
    "file=os.listdir(path)\n",
    "photos=[]\n",
    "for image in file:\n",
    "    img=cv2.imread(os.path.join(path,image))\n",
    "    h,b,c=img.shape\n",
    "    diff=abs(h-b)/2\n",
    "    \n",
    "    if diff%2==0:\n",
    "        if h<b:\n",
    "            new_d=int(diff)\n",
    "            pad=border = cv2.copyMakeBorder(img,top=new_d,bottom=new_d,left=0,right=0,borderType=cv2.BORDER_CONSTANT,value=[0, 0, 0])\n",
    "        else:\n",
    "            pad=border = cv2.copyMakeBorder(img,top=0,bottom=0,left=new_d,right=new_d,borderType=cv2.BORDER_CONSTANT,value=[0, 0, 0])\n",
    "    else:\n",
    "        \n",
    "        new_d=int(diff)\n",
    "        if h<b:\n",
    "            pad=border = cv2.copyMakeBorder(img,top=new_d,bottom=new_d+1,left=0,right=0,borderType=cv2.BORDER_CONSTANT,value=[0, 0, 0])\n",
    "        else:\n",
    "            pad=border = cv2.copyMakeBorder(img,top=0,bottom=0,left=new_d,right=new_d+1,borderType=cv2.BORDER_CONSTANT,value=[0, 0, 0])\n",
    "\n",
    "    pad=cv2.resize(pad,(600,600))        \n",
    "    cv2.imwrite('F:\\Monolith.Ai\\pad images\\{}'.format(image),pad)"
   ]
  }
 ],
 "metadata": {
  "kernelspec": {
   "display_name": "Python 3",
   "language": "python",
   "name": "python3"
  },
  "language_info": {
   "codemirror_mode": {
    "name": "ipython",
    "version": 3
   },
   "file_extension": ".py",
   "mimetype": "text/x-python",
   "name": "python",
   "nbconvert_exporter": "python",
   "pygments_lexer": "ipython3",
   "version": "3.7.6"
  }
 },
 "nbformat": 4,
 "nbformat_minor": 4
}
